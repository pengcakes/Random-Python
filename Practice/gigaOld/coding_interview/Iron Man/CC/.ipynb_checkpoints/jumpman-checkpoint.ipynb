{
 "cells": [
  {
   "cell_type": "code",
   "execution_count": null,
   "metadata": {},
   "outputs": [],
   "source": [
    "prev = index = len(nums)-1\n",
    "\n",
    "for x in reversed(nums):\n",
    "    #check if can update prev\n",
    "    if (index+x) >= prev:\n",
    "        prev = index\n",
    "\n",
    "    #when reverse traverse to start\n",
    "    if prev==0:\n",
    "        return True\n",
    "\n",
    "    index-=1\n",
    "\n",
    "return False"
   ]
  }
 ],
 "metadata": {
  "kernelspec": {
   "display_name": "Python 3",
   "language": "python",
   "name": "python3"
  },
  "language_info": {
   "codemirror_mode": {
    "name": "ipython",
    "version": 3
   },
   "file_extension": ".py",
   "mimetype": "text/x-python",
   "name": "python",
   "nbconvert_exporter": "python",
   "pygments_lexer": "ipython3",
   "version": "3.7.3"
  }
 },
 "nbformat": 4,
 "nbformat_minor": 2
}
