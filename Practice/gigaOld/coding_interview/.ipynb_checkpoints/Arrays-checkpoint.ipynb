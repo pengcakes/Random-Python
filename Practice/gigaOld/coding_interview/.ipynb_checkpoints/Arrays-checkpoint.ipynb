{
 "cells": [
  {
   "cell_type": "markdown",
   "metadata": {},
   "source": [
    "# Lists vs Numpy Arrays\n",
    "\n",
    "---\n",
    "\n",
    "### Arrays are designed for arithmetic operations. Otherwise they function similarly.\n"
   ]
  },
  {
   "cell_type": "code",
   "execution_count": 5,
   "metadata": {},
   "outputs": [],
   "source": [
    "import random\n",
    "import numpy as np"
   ]
  },
  {
   "cell_type": "code",
   "execution_count": 14,
   "metadata": {},
   "outputs": [],
   "source": [
    "# Generate examples to use.\n",
    "\n",
    "list_a = [random.randint(1,100) for x in range(0,100)]\n",
    "\n",
    "array_a = np.random.randint(1, 100, 100)\n"
   ]
  },
  {
   "cell_type": "markdown",
   "metadata": {},
   "source": [
    " Implement a vector (mutable array with automatic resizing):\n",
    " \n",
    " Practice coding using arrays and pointers, and pointer math to jump to an index instead of using indexing.\n",
    " new raw data array with allocated memory can allocate int array under the hood, just not use its features start with 16, or if starting number is greater, use power of 2 - 16, 32, 64, 128\n",
    " \n",
    " size() - number of items\n",
    " \n",
    " capacity() - number of items it can hold\n",
    " \n",
    " is_empty()\n",
    " \n",
    " at(index) - returns item at given index, blows up if index out of bounds\n",
    " \n",
    " push(item)\n",
    " \n",
    " insert(index, item) - inserts item at index, shifts that index's value and trailing elements to the right\n",
    " \n",
    " prepend(item) - can use insert above at index 0\n",
    " \n",
    " pop() - remove from end, return value\n",
    " \n",
    " delete(index) - delete item at index, shifting all trailing elements left\n",
    " \n",
    " remove(item) - looks for value and removes index holding it (even if in multiple places)\n",
    " \n",
    " find(item) - looks for value and returns first index with that value, -1 if not found\n",
    " \n",
    " resize(new_capacity) // private function"
   ]
  },
  {
   "cell_type": "code",
   "execution_count": null,
   "metadata": {},
   "outputs": [],
   "source": []
  }
 ],
 "metadata": {
  "kernelspec": {
   "display_name": "Python 3",
   "language": "python",
   "name": "python3"
  },
  "language_info": {
   "codemirror_mode": {
    "name": "ipython",
    "version": 3
   },
   "file_extension": ".py",
   "mimetype": "text/x-python",
   "name": "python",
   "nbconvert_exporter": "python",
   "pygments_lexer": "ipython3",
   "version": "3.7.3"
  }
 },
 "nbformat": 4,
 "nbformat_minor": 2
}
